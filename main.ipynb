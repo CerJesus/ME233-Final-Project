{
 "cells": [
  {
   "cell_type": "markdown",
   "metadata": {},
   "source": [
    "<h1>ME 233 Final Project: How to house</h1>\n",
    "<h3>By Jesus Cervantes, Nicholas Robles, Joanna Liu, Isaiah Drummond </h3>\n",
    "\n",
    "This project explores how different ways of assigning incoming students to dorms might impact the spread of COVID-19 on campus udner different quarantine scenarios."
   ]
  },
  {
   "cell_type": "markdown",
   "metadata": {},
   "source": [
    "# Package Imports\n",
    "Put all package imports in here."
   ]
  },
  {
   "cell_type": "code",
   "execution_count": 1,
   "metadata": {},
   "outputs": [],
   "source": [
    "import numpy as np\n",
    "import pandas as pd"
   ]
  },
  {
   "cell_type": "markdown",
   "metadata": {},
   "source": [
    "# Global Variables"
   ]
  },
  {
   "cell_type": "code",
   "execution_count": 14,
   "metadata": {},
   "outputs": [],
   "source": [
    "#Data download filename\n",
    "STUDENT_DATA_FILENAME = \"\"\n",
    "STATE_DATA_FILENAME = \"LastTimePoint.csv\"\n",
    "\n",
    "#Dorm assignment schemes\n",
    "ASSIGN_UNIFORM = \"UNIFORM\"\n",
    "ASSIGN_BY_RISK = \"RISK\"\n",
    "\n",
    "#Interaction schemes\n",
    "INTERACT_UNIFORM = \"UNIFORM\""
   ]
  },
  {
   "cell_type": "markdown",
   "metadata": {},
   "source": [
    "# Downloading State Data\n",
    "Here, we import state-based data including the number of students coming from each state and information about the virus in that state"
   ]
  },
  {
   "cell_type": "code",
   "execution_count": 17,
   "metadata": {},
   "outputs": [],
   "source": [
    "def read_data_from_file(student_filename, state_filename):\n",
    "    # student_filename: string, filename of the table with data about where students are coming from\n",
    "    # state_filename: string, filename of the table with init conditions (S_0, E_0, etc.) by state\n",
    "    \n",
    "    # Add the data table (.csv, .xlsx, etc.) into the git repo, then read it in here\n",
    "    # Do whatever cleaning up needs to be done and return the table\n",
    "    incoming_student_data = pd.read_csv(student_filename) #change if not csv\n",
    "    \n",
    "    state_risk_data = pd.read_csv(state_filename)\n",
    "    \n",
    "    #DO PREPROCESSING AND COMBINING into data\n",
    "    data = None\n",
    "    \n",
    "    return data"
   ]
  },
  {
   "cell_type": "code",
   "execution_count": 18,
   "metadata": {
    "collapsed": true
   },
   "outputs": [
    {
     "ename": "FileNotFoundError",
     "evalue": "[Errno 2] File b'' does not exist: b''",
     "output_type": "error",
     "traceback": [
      "\u001b[0;31m---------------------------------------------------------------------------\u001b[0m",
      "\u001b[0;31mFileNotFoundError\u001b[0m                         Traceback (most recent call last)",
      "\u001b[0;32m<ipython-input-18-25337074d2e4>\u001b[0m in \u001b[0;36m<module>\u001b[0;34m\u001b[0m\n\u001b[0;32m----> 1\u001b[0;31m \u001b[0mstate_based_data\u001b[0m \u001b[0;34m=\u001b[0m \u001b[0mread_data_from_file\u001b[0m\u001b[0;34m(\u001b[0m\u001b[0mSTUDENT_DATA_FILENAME\u001b[0m\u001b[0;34m,\u001b[0m \u001b[0mSTATE_DATA_FILENAME\u001b[0m\u001b[0;34m)\u001b[0m\u001b[0;34m\u001b[0m\u001b[0;34m\u001b[0m\u001b[0m\n\u001b[0m",
      "\u001b[0;32m<ipython-input-17-96351ff4207c>\u001b[0m in \u001b[0;36mread_data_from_file\u001b[0;34m(student_filename, state_filename)\u001b[0m\n\u001b[1;32m      5\u001b[0m     \u001b[0;31m# Add the data table (.csv, .xlsx, etc.) into the git repo, then read it in here\u001b[0m\u001b[0;34m\u001b[0m\u001b[0;34m\u001b[0m\u001b[0;34m\u001b[0m\u001b[0m\n\u001b[1;32m      6\u001b[0m     \u001b[0;31m# Do whatever cleaning up needs to be done and return the table\u001b[0m\u001b[0;34m\u001b[0m\u001b[0;34m\u001b[0m\u001b[0;34m\u001b[0m\u001b[0m\n\u001b[0;32m----> 7\u001b[0;31m     \u001b[0mincoming_student_data\u001b[0m \u001b[0;34m=\u001b[0m \u001b[0mpd\u001b[0m\u001b[0;34m.\u001b[0m\u001b[0mread_csv\u001b[0m\u001b[0;34m(\u001b[0m\u001b[0mstudent_filename\u001b[0m\u001b[0;34m)\u001b[0m \u001b[0;31m#change if not csv\u001b[0m\u001b[0;34m\u001b[0m\u001b[0;34m\u001b[0m\u001b[0m\n\u001b[0m\u001b[1;32m      8\u001b[0m \u001b[0;34m\u001b[0m\u001b[0m\n\u001b[1;32m      9\u001b[0m     \u001b[0mstate_risk_data\u001b[0m \u001b[0;34m=\u001b[0m \u001b[0mpd\u001b[0m\u001b[0;34m.\u001b[0m\u001b[0mread_csv\u001b[0m\u001b[0;34m(\u001b[0m\u001b[0mstate_filename\u001b[0m\u001b[0;34m)\u001b[0m\u001b[0;34m\u001b[0m\u001b[0;34m\u001b[0m\u001b[0m\n",
      "\u001b[0;32m~/opt/miniconda3/envs/ipykernel_py3/lib/python3.8/site-packages/pandas/io/parsers.py\u001b[0m in \u001b[0;36mparser_f\u001b[0;34m(filepath_or_buffer, sep, delimiter, header, names, index_col, usecols, squeeze, prefix, mangle_dupe_cols, dtype, engine, converters, true_values, false_values, skipinitialspace, skiprows, skipfooter, nrows, na_values, keep_default_na, na_filter, verbose, skip_blank_lines, parse_dates, infer_datetime_format, keep_date_col, date_parser, dayfirst, cache_dates, iterator, chunksize, compression, thousands, decimal, lineterminator, quotechar, quoting, doublequote, escapechar, comment, encoding, dialect, error_bad_lines, warn_bad_lines, delim_whitespace, low_memory, memory_map, float_precision)\u001b[0m\n\u001b[1;32m    683\u001b[0m         )\n\u001b[1;32m    684\u001b[0m \u001b[0;34m\u001b[0m\u001b[0m\n\u001b[0;32m--> 685\u001b[0;31m         \u001b[0;32mreturn\u001b[0m \u001b[0m_read\u001b[0m\u001b[0;34m(\u001b[0m\u001b[0mfilepath_or_buffer\u001b[0m\u001b[0;34m,\u001b[0m \u001b[0mkwds\u001b[0m\u001b[0;34m)\u001b[0m\u001b[0;34m\u001b[0m\u001b[0;34m\u001b[0m\u001b[0m\n\u001b[0m\u001b[1;32m    686\u001b[0m \u001b[0;34m\u001b[0m\u001b[0m\n\u001b[1;32m    687\u001b[0m     \u001b[0mparser_f\u001b[0m\u001b[0;34m.\u001b[0m\u001b[0m__name__\u001b[0m \u001b[0;34m=\u001b[0m \u001b[0mname\u001b[0m\u001b[0;34m\u001b[0m\u001b[0;34m\u001b[0m\u001b[0m\n",
      "\u001b[0;32m~/opt/miniconda3/envs/ipykernel_py3/lib/python3.8/site-packages/pandas/io/parsers.py\u001b[0m in \u001b[0;36m_read\u001b[0;34m(filepath_or_buffer, kwds)\u001b[0m\n\u001b[1;32m    455\u001b[0m \u001b[0;34m\u001b[0m\u001b[0m\n\u001b[1;32m    456\u001b[0m     \u001b[0;31m# Create the parser.\u001b[0m\u001b[0;34m\u001b[0m\u001b[0;34m\u001b[0m\u001b[0;34m\u001b[0m\u001b[0m\n\u001b[0;32m--> 457\u001b[0;31m     \u001b[0mparser\u001b[0m \u001b[0;34m=\u001b[0m \u001b[0mTextFileReader\u001b[0m\u001b[0;34m(\u001b[0m\u001b[0mfp_or_buf\u001b[0m\u001b[0;34m,\u001b[0m \u001b[0;34m**\u001b[0m\u001b[0mkwds\u001b[0m\u001b[0;34m)\u001b[0m\u001b[0;34m\u001b[0m\u001b[0;34m\u001b[0m\u001b[0m\n\u001b[0m\u001b[1;32m    458\u001b[0m \u001b[0;34m\u001b[0m\u001b[0m\n\u001b[1;32m    459\u001b[0m     \u001b[0;32mif\u001b[0m \u001b[0mchunksize\u001b[0m \u001b[0;32mor\u001b[0m \u001b[0miterator\u001b[0m\u001b[0;34m:\u001b[0m\u001b[0;34m\u001b[0m\u001b[0;34m\u001b[0m\u001b[0m\n",
      "\u001b[0;32m~/opt/miniconda3/envs/ipykernel_py3/lib/python3.8/site-packages/pandas/io/parsers.py\u001b[0m in \u001b[0;36m__init__\u001b[0;34m(self, f, engine, **kwds)\u001b[0m\n\u001b[1;32m    893\u001b[0m             \u001b[0mself\u001b[0m\u001b[0;34m.\u001b[0m\u001b[0moptions\u001b[0m\u001b[0;34m[\u001b[0m\u001b[0;34m\"has_index_names\"\u001b[0m\u001b[0;34m]\u001b[0m \u001b[0;34m=\u001b[0m \u001b[0mkwds\u001b[0m\u001b[0;34m[\u001b[0m\u001b[0;34m\"has_index_names\"\u001b[0m\u001b[0;34m]\u001b[0m\u001b[0;34m\u001b[0m\u001b[0;34m\u001b[0m\u001b[0m\n\u001b[1;32m    894\u001b[0m \u001b[0;34m\u001b[0m\u001b[0m\n\u001b[0;32m--> 895\u001b[0;31m         \u001b[0mself\u001b[0m\u001b[0;34m.\u001b[0m\u001b[0m_make_engine\u001b[0m\u001b[0;34m(\u001b[0m\u001b[0mself\u001b[0m\u001b[0;34m.\u001b[0m\u001b[0mengine\u001b[0m\u001b[0;34m)\u001b[0m\u001b[0;34m\u001b[0m\u001b[0;34m\u001b[0m\u001b[0m\n\u001b[0m\u001b[1;32m    896\u001b[0m \u001b[0;34m\u001b[0m\u001b[0m\n\u001b[1;32m    897\u001b[0m     \u001b[0;32mdef\u001b[0m \u001b[0mclose\u001b[0m\u001b[0;34m(\u001b[0m\u001b[0mself\u001b[0m\u001b[0;34m)\u001b[0m\u001b[0;34m:\u001b[0m\u001b[0;34m\u001b[0m\u001b[0;34m\u001b[0m\u001b[0m\n",
      "\u001b[0;32m~/opt/miniconda3/envs/ipykernel_py3/lib/python3.8/site-packages/pandas/io/parsers.py\u001b[0m in \u001b[0;36m_make_engine\u001b[0;34m(self, engine)\u001b[0m\n\u001b[1;32m   1133\u001b[0m     \u001b[0;32mdef\u001b[0m \u001b[0m_make_engine\u001b[0m\u001b[0;34m(\u001b[0m\u001b[0mself\u001b[0m\u001b[0;34m,\u001b[0m \u001b[0mengine\u001b[0m\u001b[0;34m=\u001b[0m\u001b[0;34m\"c\"\u001b[0m\u001b[0;34m)\u001b[0m\u001b[0;34m:\u001b[0m\u001b[0;34m\u001b[0m\u001b[0;34m\u001b[0m\u001b[0m\n\u001b[1;32m   1134\u001b[0m         \u001b[0;32mif\u001b[0m \u001b[0mengine\u001b[0m \u001b[0;34m==\u001b[0m \u001b[0;34m\"c\"\u001b[0m\u001b[0;34m:\u001b[0m\u001b[0;34m\u001b[0m\u001b[0;34m\u001b[0m\u001b[0m\n\u001b[0;32m-> 1135\u001b[0;31m             \u001b[0mself\u001b[0m\u001b[0;34m.\u001b[0m\u001b[0m_engine\u001b[0m \u001b[0;34m=\u001b[0m \u001b[0mCParserWrapper\u001b[0m\u001b[0;34m(\u001b[0m\u001b[0mself\u001b[0m\u001b[0;34m.\u001b[0m\u001b[0mf\u001b[0m\u001b[0;34m,\u001b[0m \u001b[0;34m**\u001b[0m\u001b[0mself\u001b[0m\u001b[0;34m.\u001b[0m\u001b[0moptions\u001b[0m\u001b[0;34m)\u001b[0m\u001b[0;34m\u001b[0m\u001b[0;34m\u001b[0m\u001b[0m\n\u001b[0m\u001b[1;32m   1136\u001b[0m         \u001b[0;32melse\u001b[0m\u001b[0;34m:\u001b[0m\u001b[0;34m\u001b[0m\u001b[0;34m\u001b[0m\u001b[0m\n\u001b[1;32m   1137\u001b[0m             \u001b[0;32mif\u001b[0m \u001b[0mengine\u001b[0m \u001b[0;34m==\u001b[0m \u001b[0;34m\"python\"\u001b[0m\u001b[0;34m:\u001b[0m\u001b[0;34m\u001b[0m\u001b[0;34m\u001b[0m\u001b[0m\n",
      "\u001b[0;32m~/opt/miniconda3/envs/ipykernel_py3/lib/python3.8/site-packages/pandas/io/parsers.py\u001b[0m in \u001b[0;36m__init__\u001b[0;34m(self, src, **kwds)\u001b[0m\n\u001b[1;32m   1915\u001b[0m         \u001b[0mkwds\u001b[0m\u001b[0;34m[\u001b[0m\u001b[0;34m\"usecols\"\u001b[0m\u001b[0;34m]\u001b[0m \u001b[0;34m=\u001b[0m \u001b[0mself\u001b[0m\u001b[0;34m.\u001b[0m\u001b[0musecols\u001b[0m\u001b[0;34m\u001b[0m\u001b[0;34m\u001b[0m\u001b[0m\n\u001b[1;32m   1916\u001b[0m \u001b[0;34m\u001b[0m\u001b[0m\n\u001b[0;32m-> 1917\u001b[0;31m         \u001b[0mself\u001b[0m\u001b[0;34m.\u001b[0m\u001b[0m_reader\u001b[0m \u001b[0;34m=\u001b[0m \u001b[0mparsers\u001b[0m\u001b[0;34m.\u001b[0m\u001b[0mTextReader\u001b[0m\u001b[0;34m(\u001b[0m\u001b[0msrc\u001b[0m\u001b[0;34m,\u001b[0m \u001b[0;34m**\u001b[0m\u001b[0mkwds\u001b[0m\u001b[0;34m)\u001b[0m\u001b[0;34m\u001b[0m\u001b[0;34m\u001b[0m\u001b[0m\n\u001b[0m\u001b[1;32m   1918\u001b[0m         \u001b[0mself\u001b[0m\u001b[0;34m.\u001b[0m\u001b[0munnamed_cols\u001b[0m \u001b[0;34m=\u001b[0m \u001b[0mself\u001b[0m\u001b[0;34m.\u001b[0m\u001b[0m_reader\u001b[0m\u001b[0;34m.\u001b[0m\u001b[0munnamed_cols\u001b[0m\u001b[0;34m\u001b[0m\u001b[0;34m\u001b[0m\u001b[0m\n\u001b[1;32m   1919\u001b[0m \u001b[0;34m\u001b[0m\u001b[0m\n",
      "\u001b[0;32mpandas/_libs/parsers.pyx\u001b[0m in \u001b[0;36mpandas._libs.parsers.TextReader.__cinit__\u001b[0;34m()\u001b[0m\n",
      "\u001b[0;32mpandas/_libs/parsers.pyx\u001b[0m in \u001b[0;36mpandas._libs.parsers.TextReader._setup_parser_source\u001b[0;34m()\u001b[0m\n",
      "\u001b[0;31mFileNotFoundError\u001b[0m: [Errno 2] File b'' does not exist: b''"
     ]
    }
   ],
   "source": [
    "state_based_data = read_data_from_file(STUDENT_DATA_FILENAME, STATE_DATA_FILENAME)"
   ]
  },
  {
   "cell_type": "markdown",
   "metadata": {},
   "source": [
    "# Make dorms\n",
    "\n",
    "Here, we take our state data and make our dorms out of it. For each dorm, we assign a subset of the student population to be in that dorm. Once we have assigned the students to the dorm, we get a weighted average based on where students came from to get one single risk measure for that dorm (probably based on positivity rate of the state). A major part of our experiment is how we do the assignment, our control is assuming a uniform distribution throughout each dorm."
   ]
  },
  {
   "cell_type": "code",
   "execution_count": 13,
   "metadata": {},
   "outputs": [],
   "source": [
    "def get_dorm_assignments(n_dorms, pop, state_data, yrs, assign, dorm_pops=None):\n",
    "    # n_dorms: int, number of dorms\n",
    "    # pop: int, total student population\n",
    "    # state_data: np array or pd dataframe, information by state w # students from state + state pos. rate\n",
    "    # yrs: int, col indices for class years to consider for moving in\n",
    "    # assign: string, determines what kind of assignment mechanism to use\n",
    "    # dorm_pops (Optional): dict mapping dorms to # students in that dorm, not using for now but in case we want to make dorms unique\n",
    "    \n",
    "    # RETURNS: dorms, pd dataframe, each row is a dorm, the columns in order are: # students, S_0, E_0, I_0, R_0, Rt, beta\n",
    "    \n",
    "    # Each elem in dorms is a float that is the weighted risk of that dorm\n",
    "    dorms = pd.DataFrame(np.zeros((n_dorms,7)), columns=[\"Students\", \"S_0\", \"E_0\",\"I_0\", \"R_0\", \"Rt\", \"beta\"])\n",
    "    \n",
    "    if assign == ASSIGN_UNIFORM:\n",
    "        #DOO STUFF TO MAKE UNIFORM DISTRIBUTION\n",
    "        print(\"We are using uniform distribution\")\n",
    "    elif assign == ASSIGN_BY_RISK:\n",
    "        # DO STUFF TO DO DORM ASSIGNMENTRISK BUCKETS\n",
    "        print(\"We are using risk bucketing for dorm assignments\")\n",
    "    \n",
    "    #feel free to add more assignment schemes! just make sure to add a global variable for the string\n",
    "    \n",
    "    return dorms\n",
    "    "
   ]
  },
  {
   "cell_type": "code",
   "execution_count": 11,
   "metadata": {
    "collapsed": true
   },
   "outputs": [
    {
     "ename": "NameError",
     "evalue": "name 'state_based_data' is not defined",
     "output_type": "error",
     "traceback": [
      "\u001b[0;31m---------------------------------------------------------------------------\u001b[0m",
      "\u001b[0;31mNameError\u001b[0m                                 Traceback (most recent call last)",
      "\u001b[0;32m<ipython-input-11-c95c51a6b8f3>\u001b[0m in \u001b[0;36m<module>\u001b[0;34m\u001b[0m\n\u001b[1;32m      5\u001b[0m \u001b[0myears_to_consider\u001b[0m \u001b[0;34m=\u001b[0m \u001b[0;34m[\u001b[0m\u001b[0;34m\"UG1\"\u001b[0m\u001b[0;34m,\u001b[0m \u001b[0;34m\"UG2\"\u001b[0m\u001b[0;34m]\u001b[0m \u001b[0;31m#Subject to change pending what the state data looks like\u001b[0m\u001b[0;34m\u001b[0m\u001b[0;34m\u001b[0m\u001b[0m\n\u001b[1;32m      6\u001b[0m \u001b[0;34m\u001b[0m\u001b[0m\n\u001b[0;32m----> 7\u001b[0;31m \u001b[0muniform_dorms\u001b[0m \u001b[0;34m=\u001b[0m \u001b[0mget_dorm_assignments\u001b[0m\u001b[0;34m(\u001b[0m\u001b[0mn_dorms\u001b[0m\u001b[0;34m,\u001b[0m \u001b[0mtotal_students\u001b[0m\u001b[0;34m,\u001b[0m \u001b[0mstate_based_data\u001b[0m\u001b[0;34m,\u001b[0m \u001b[0myears_to_consider\u001b[0m\u001b[0;34m,\u001b[0m \u001b[0mASSIGN_UNIFORM\u001b[0m\u001b[0;34m)\u001b[0m\u001b[0;34m\u001b[0m\u001b[0;34m\u001b[0m\u001b[0m\n\u001b[0m",
      "\u001b[0;31mNameError\u001b[0m: name 'state_based_data' is not defined"
     ]
    }
   ],
   "source": [
    "n_dorms = 10\n",
    "\n",
    "total_students = 12 #SHOULD BE SUM OF THE COLUMNS IN state_based_data THAT ARE STUDENTS COMING IN\n",
    "\n",
    "years_to_consider = [\"UG1\", \"UG2\"] #Subject to change pending what the state data looks like\n",
    "\n",
    "dorms_uniform = get_dorm_assignments(n_dorms, total_students, state_based_data, years_to_consider, ASSIGN_UNIFORM)"
   ]
  },
  {
   "cell_type": "code",
   "execution_count": 12,
   "metadata": {},
   "outputs": [
    {
     "ename": "NameError",
     "evalue": "name 'state_based_data' is not defined",
     "output_type": "error",
     "traceback": [
      "\u001b[0;31m---------------------------------------------------------------------------\u001b[0m",
      "\u001b[0;31mNameError\u001b[0m                                 Traceback (most recent call last)",
      "\u001b[0;32m<ipython-input-12-af2d41050364>\u001b[0m in \u001b[0;36m<module>\u001b[0;34m\u001b[0m\n\u001b[1;32m      1\u001b[0m \u001b[0;31m#Repeat for other assignment types\u001b[0m\u001b[0;34m\u001b[0m\u001b[0;34m\u001b[0m\u001b[0;34m\u001b[0m\u001b[0m\n\u001b[0;32m----> 2\u001b[0;31m \u001b[0mdorms_by_risk\u001b[0m \u001b[0;34m=\u001b[0m \u001b[0mget_dorm_assignments\u001b[0m\u001b[0;34m(\u001b[0m\u001b[0mn_dorms\u001b[0m\u001b[0;34m,\u001b[0m \u001b[0mtotal_students\u001b[0m\u001b[0;34m,\u001b[0m \u001b[0mstate_based_data\u001b[0m\u001b[0;34m,\u001b[0m \u001b[0myears_to_consider\u001b[0m\u001b[0;34m,\u001b[0m \u001b[0mASSIGN_BY_RISK\u001b[0m\u001b[0;34m)\u001b[0m\u001b[0;34m\u001b[0m\u001b[0;34m\u001b[0m\u001b[0m\n\u001b[0m",
      "\u001b[0;31mNameError\u001b[0m: name 'state_based_data' is not defined"
     ]
    }
   ],
   "source": [
    "#Repeat for other assignment types\n",
    "dorms_by_risk = get_dorm_assignments(n_dorms, total_students, state_based_data, years_to_consider, ASSIGN_BY_RISK)"
   ]
  },
  {
   "cell_type": "markdown",
   "metadata": {},
   "source": [
    "# Dorm Interactions\n",
    "Now that we have what we need to know for each individual dorm, we get the dorm interaction table. This table has a row for each dorm and includes its initial conditions as before (S_0, E_0, I_0, R_0, Rt, beta) as well as how that dorm interacts with others. Stretch goal is to have one such table for each dorm and the interaction column is going to be how many people from each dorm visit the dorm who the table is for. For now, though, we will assume uniform interaction among dorms."
   ]
  },
  {
   "cell_type": "code",
   "execution_count": 20,
   "metadata": {},
   "outputs": [],
   "source": [
    "def get_interaction_tables(dorms, interact_num, interact_type):\n",
    "    # dorms: pd dataframe, table of dorms and their initial conditions\n",
    "    # interact_num: int, num interacting residents\n",
    "    # interact_type: string, scheme of interaction, currently just uniform\n",
    "    \n",
    "    \n",
    "    if interact_type == INTERACT_UNIFORM:\n",
    "        interact_col = np.ones(n_dorms)*interact_num\n",
    "        \n",
    "        interact_df = dorms\n",
    "        \n",
    "        interact_df[\"Interacting\"] = interact_col\n",
    "        \n",
    "        return interact_df\n",
    "        \n",
    "    return None\n",
    "        \n",
    "        "
   ]
  },
  {
   "cell_type": "code",
   "execution_count": 21,
   "metadata": {
    "collapsed": true
   },
   "outputs": [
    {
     "ename": "NameError",
     "evalue": "name 'dorms_uniform' is not defined",
     "output_type": "error",
     "traceback": [
      "\u001b[0;31m---------------------------------------------------------------------------\u001b[0m",
      "\u001b[0;31mNameError\u001b[0m                                 Traceback (most recent call last)",
      "\u001b[0;32m<ipython-input-21-17d7b07899f9>\u001b[0m in \u001b[0;36m<module>\u001b[0;34m\u001b[0m\n\u001b[1;32m      2\u001b[0m \u001b[0minteract_num\u001b[0m \u001b[0;34m=\u001b[0m \u001b[0;36m10\u001b[0m\u001b[0;34m\u001b[0m\u001b[0;34m\u001b[0m\u001b[0m\n\u001b[1;32m      3\u001b[0m \u001b[0;34m\u001b[0m\u001b[0m\n\u001b[0;32m----> 4\u001b[0;31m \u001b[0minteract_table_control\u001b[0m \u001b[0;34m=\u001b[0m \u001b[0mget_interaction_tables\u001b[0m\u001b[0;34m(\u001b[0m\u001b[0mdorms_uniform\u001b[0m\u001b[0;34m,\u001b[0m \u001b[0minteract_num\u001b[0m\u001b[0;34m,\u001b[0m \u001b[0mINTERACT_UNIFORM\u001b[0m\u001b[0;34m)\u001b[0m\u001b[0;34m\u001b[0m\u001b[0;34m\u001b[0m\u001b[0m\n\u001b[0m\u001b[1;32m      5\u001b[0m \u001b[0;34m\u001b[0m\u001b[0m\n\u001b[1;32m      6\u001b[0m \u001b[0minteract_table_by_risk\u001b[0m \u001b[0;34m=\u001b[0m \u001b[0mget_interaction_tables\u001b[0m\u001b[0;34m(\u001b[0m\u001b[0mdorms_by_risk\u001b[0m\u001b[0;34m,\u001b[0m \u001b[0minteract_num\u001b[0m\u001b[0;34m,\u001b[0m \u001b[0mINTERACT_UNIFORM\u001b[0m\u001b[0;34m)\u001b[0m\u001b[0;34m\u001b[0m\u001b[0;34m\u001b[0m\u001b[0m\n",
      "\u001b[0;31mNameError\u001b[0m: name 'dorms_uniform' is not defined"
     ]
    }
   ],
   "source": [
    "# students leaving each dorm, should maybe make function of dorm population\n",
    "interact_num = 10\n",
    "\n",
    "interact_table_control = get_interaction_tables(dorms_uniform, interact_num, INTERACT_UNIFORM)\n",
    "\n",
    "interact_table_by_risk = get_interaction_tables(dorms_by_risk, interact_num, INTERACT_UNIFORM)"
   ]
  },
  {
   "cell_type": "markdown",
   "metadata": {},
   "source": [
    "# GET RESULTS BY DORM\n",
    "\n",
    "So, now that we have our interaction table, we apply it to each of our dorms to get the SEIR model for each dorm. This is done by pretty much just for looping through the networking code they gave us for each of the dorm systems we have."
   ]
  },
  {
   "cell_type": "code",
   "execution_count": null,
   "metadata": {},
   "outputs": [],
   "source": [
    "# Put in any helpers here for making the networking code happen\n"
   ]
  },
  {
   "cell_type": "code",
   "execution_count": 22,
   "metadata": {},
   "outputs": [],
   "source": [
    "def get_Results_By_Dorm(dorm_interactions):\n",
    "    # dorm_interactions: pd dataframe, table of pop, initial conditions, and interaction for each dorm\n",
    "    \n",
    "    # Returns: results, pd dataframe or np array, each row is dorm, time series of confirmed cases. Can return multiple tables if there are other time series we wanna measure (i.e SEIR) \n",
    "    \n",
    "    #idk if there's preliminary stuff we wanna do here\n",
    "    results = None\n",
    "    \n",
    "    #for each dorm\n",
    "    for d in range(len(dorm_interactions.index)):\n",
    "        # DO STUFF FOR THIS DORM, LOOK AT THE NETWORKING CODE, this bit gonna be thick and probably require a lot of decomposition\n",
    "        # Feel free to add a cell above this one and make helper functions in there to stay organized (i.e plot_confirmed_cases())\n",
    "        print(\"analyzing results for dorm d\")\n",
    "        \n",
    "    return results"
   ]
  },
  {
   "cell_type": "code",
   "execution_count": 23,
   "metadata": {
    "collapsed": true
   },
   "outputs": [
    {
     "ename": "NameError",
     "evalue": "name 'interact_table_control' is not defined",
     "output_type": "error",
     "traceback": [
      "\u001b[0;31m---------------------------------------------------------------------------\u001b[0m",
      "\u001b[0;31mNameError\u001b[0m                                 Traceback (most recent call last)",
      "\u001b[0;32m<ipython-input-23-8ac5fb0f04af>\u001b[0m in \u001b[0;36m<module>\u001b[0;34m\u001b[0m\n\u001b[0;32m----> 1\u001b[0;31m \u001b[0mdorm_results_control\u001b[0m \u001b[0;34m=\u001b[0m \u001b[0mget_Results_By_Dorm\u001b[0m\u001b[0;34m(\u001b[0m\u001b[0minteract_table_control\u001b[0m\u001b[0;34m)\u001b[0m\u001b[0;34m\u001b[0m\u001b[0;34m\u001b[0m\u001b[0m\n\u001b[0m\u001b[1;32m      2\u001b[0m \u001b[0;34m\u001b[0m\u001b[0m\n\u001b[1;32m      3\u001b[0m \u001b[0mdorm_results_by_risk\u001b[0m \u001b[0;34m=\u001b[0m \u001b[0mget_Results_By_dorm\u001b[0m\u001b[0;34m(\u001b[0m\u001b[0minteract_table_by_risk\u001b[0m\u001b[0;34m)\u001b[0m\u001b[0;34m\u001b[0m\u001b[0;34m\u001b[0m\u001b[0m\n",
      "\u001b[0;31mNameError\u001b[0m: name 'interact_table_control' is not defined"
     ]
    }
   ],
   "source": [
    "dorm_results_control = get_Results_By_Dorm(interact_table_control)\n",
    "\n",
    "dorm_results_by_risk = get_Results_By_dorm(interact_table_by_risk)"
   ]
  },
  {
   "cell_type": "markdown",
   "metadata": {},
   "source": [
    "# Aggregating Results\n",
    "Here, we gather up all the dorm-specific data we have to get university-wide results for each assignment mechanism."
   ]
  },
  {
   "cell_type": "code",
   "execution_count": 24,
   "metadata": {},
   "outputs": [],
   "source": [
    "def aggregate_results(dorm_results):\n",
    "    # dorm_results: pd dataframe or np array, each row is time series of data for a dorm\n",
    "    \n",
    "    #Return: single time series that is weighted average of the dorm_results\n",
    "    \n",
    "    #Do stuff that should basically amount to getting weighted average of all the dorms\n",
    "    \n",
    "    #For each row, multiply the whole row by the pop of that dorm\n",
    "    ####TODO\n",
    "    #Sum all the rows together\n",
    "    aggregated_results = np.sum(dorm_results, axis=0) #axis might have to be 1, check later\n",
    "    \n",
    "    #Divide by total pop, we now have weighted average\n",
    "    return aggregated_results/total_students"
   ]
  },
  {
   "cell_type": "code",
   "execution_count": 25,
   "metadata": {
    "collapsed": true
   },
   "outputs": [
    {
     "ename": "NameError",
     "evalue": "name 'dorm_results_control' is not defined",
     "output_type": "error",
     "traceback": [
      "\u001b[0;31m---------------------------------------------------------------------------\u001b[0m",
      "\u001b[0;31mNameError\u001b[0m                                 Traceback (most recent call last)",
      "\u001b[0;32m<ipython-input-25-a43ff6d8c1e4>\u001b[0m in \u001b[0;36m<module>\u001b[0;34m\u001b[0m\n\u001b[0;32m----> 1\u001b[0;31m \u001b[0mcontrol_agg\u001b[0m \u001b[0;34m=\u001b[0m \u001b[0maggregate_results\u001b[0m\u001b[0;34m(\u001b[0m\u001b[0mdorm_results_control\u001b[0m\u001b[0;34m)\u001b[0m\u001b[0;34m\u001b[0m\u001b[0;34m\u001b[0m\u001b[0m\n\u001b[0m\u001b[1;32m      2\u001b[0m \u001b[0;34m\u001b[0m\u001b[0m\n\u001b[1;32m      3\u001b[0m \u001b[0mby_risk_agg\u001b[0m \u001b[0;34m=\u001b[0m \u001b[0maggregate_results\u001b[0m\u001b[0;34m(\u001b[0m\u001b[0mdorm_results_by_risk\u001b[0m\u001b[0;34m)\u001b[0m\u001b[0;34m\u001b[0m\u001b[0;34m\u001b[0m\u001b[0m\n",
      "\u001b[0;31mNameError\u001b[0m: name 'dorm_results_control' is not defined"
     ]
    }
   ],
   "source": [
    "control_agg = aggregate_results(dorm_results_control)\n",
    "\n",
    "by_risk_agg = aggregate_results(dorm_results_by_risk)"
   ]
  },
  {
   "cell_type": "code",
   "execution_count": null,
   "metadata": {},
   "outputs": [],
   "source": [
    "# Aggregated Analysis and Plots\n",
    "If there's any plots and stuff we wanna make with the aggregated results, put that here"
   ]
  }
 ],
 "metadata": {
  "kernelspec": {
   "display_name": "myenv",
   "language": "python",
   "name": "myenv"
  },
  "language_info": {
   "codemirror_mode": {
    "name": "ipython",
    "version": 3
   },
   "file_extension": ".py",
   "mimetype": "text/x-python",
   "name": "python",
   "nbconvert_exporter": "python",
   "pygments_lexer": "ipython3",
   "version": "3.8.1"
  }
 },
 "nbformat": 4,
 "nbformat_minor": 4
}
